{
 "cells": [
  {
   "cell_type": "markdown",
   "metadata": {},
   "source": [
    "## Next location prediction\n",
    "\n",
    "The user inputs current location and city.\n",
    "\n",
    "Based on pretrained LSTM model, the code will predict based on frequent POI movements the next location for the user to go to"
   ]
  },
  {
   "cell_type": "code",
   "execution_count": 1,
   "metadata": {},
   "outputs": [],
   "source": [
    "# import libraries\n",
    "import numpy as np\n",
    "import json\n",
    "from tensorflow.keras.models import load_model\n"
   ]
  },
  {
   "cell_type": "code",
   "execution_count": 8,
   "metadata": {},
   "outputs": [
    {
     "name": "stderr",
     "output_type": "stream",
     "text": [
      "WARNING:absl:Compiled the loaded model, but the compiled metrics have yet to be built. `model.compile_metrics` will be empty until you train or evaluate the model.\n",
      "WARNING:absl:Compiled the loaded model, but the compiled metrics have yet to be built. `model.compile_metrics` will be empty until you train or evaluate the model.\n",
      "WARNING:absl:Compiled the loaded model, but the compiled metrics have yet to be built. `model.compile_metrics` will be empty until you train or evaluate the model.\n",
      "WARNING:absl:Compiled the loaded model, but the compiled metrics have yet to be built. `model.compile_metrics` will be empty until you train or evaluate the model.\n"
     ]
    }
   ],
   "source": [
    "# Load LSTM models for all cities\n",
    "models = {\n",
    "    'A': load_model('weights\\lstm_city_A.h5'),\n",
    "    'B': load_model('weights\\lstm_city_B.h5'),\n",
    "    'C': load_model('weights\\lstm_city_C.h5'),\n",
    "    'D': load_model('weights\\lstm_city_D.h5'),\n",
    "}\n"
   ]
  },
  {
   "cell_type": "code",
   "execution_count": 9,
   "metadata": {},
   "outputs": [],
   "source": [
    "# Load POI mappings\n",
    "poi_mappings = {}\n",
    "for city in ['A', 'B', 'C', 'D']:\n",
    "    with open(f'poi_mapping\\poi_mapping_city_{city}.json', 'r') as f:\n",
    "        poi_mapping_json_compatible = json.load(f)\n",
    "        # Convert string keys back to tuples\n",
    "        poi_mappings[city] = {eval(key): value for key, value in poi_mapping_json_compatible.items()}\n"
   ]
  },
  {
   "cell_type": "code",
   "execution_count": null,
   "metadata": {},
   "outputs": [],
   "source": [
    "def predict_next_location(city, current_location):\n",
    "    # Validate inputs\n",
    "    if city not in models:\n",
    "        return {'error': 'Invalid city'}\n",
    "    if not isinstance(current_location, list) or len(current_location) != 2:\n",
    "        return {'error': 'Invalid current location'}\n",
    "\n",
    "    # Load the corresponding model\n",
    "    model = models[city]\n",
    "    poi_mapping = poi_mappings[city]\n",
    "\n",
    "    # Generate a padded sequence\n",
    "    sequence_length = 10\n",
    "    feature_size = model.input_shape[-1]\n",
    "    sequence = np.zeros((sequence_length, feature_size))\n",
    "    sequence[-1, :2] = current_location  \n",
    "    \n",
    "    # Reshape input for LSTM\n",
    "    sequence = np.expand_dims(sequence, axis=0)\n",
    "\n",
    "    # Predict the next location\n",
    "    prediction = model.predict(sequence)\n",
    "    predicted_location = [round(coord) for coord in prediction[0]] \n",
    "\n",
    "    # Find the nearest POI grid\n",
    "    poi_grids = list(poi_mapping.keys())  \n",
    "    distances = [np.sqrt((predicted_location[0] - grid[0])**2 + (predicted_location[1] - grid[1])**2) for grid in poi_grids]\n",
    "    nearest_poi_index = np.argmin(distances)\n",
    "    nearest_poi_grid = poi_grids[nearest_poi_index]\n",
    "\n",
    "    # Get the POI for the nearest grid\n",
    "    poi = poi_mapping.get(nearest_poi_grid, \"Unknown\")\n",
    "\n",
    "    # Return the results\n",
    "    return {\n",
    "        'predicted_location': predicted_location,\n",
    "        'nearest_poi_location': list(nearest_poi_grid),\n",
    "        'poi': poi\n",
    "    }\n"
   ]
  },
  {
   "cell_type": "code",
   "execution_count": 11,
   "metadata": {},
   "outputs": [
    {
     "name": "stdout",
     "output_type": "stream",
     "text": [
      "\u001b[1m1/1\u001b[0m \u001b[32m━━━━━━━━━━━━━━━━━━━━\u001b[0m\u001b[37m\u001b[0m \u001b[1m0s\u001b[0m 112ms/step\n",
      "Predicted Results:\n",
      "Predicted Next Location (x, y): [53, 46]\n",
      "Nearest POI Location (x, y): [54, 46]\n",
      "POI: Hair Salon\n"
     ]
    }
   ],
   "source": [
    "# Example input\n",
    "city = 'D'\n",
    "current_location = [10, 15]\n",
    "\n",
    "# Run prediction\n",
    "result = predict_next_location(city, current_location)\n",
    "\n",
    "# Display the result\n",
    "print(\"Predicted Results:\")\n",
    "print(f\"Predicted Next Location (x, y): {result['predicted_location']}\")\n",
    "print(f\"Nearest POI Location (x, y): {result['nearest_poi_location']}\")\n",
    "print(f\"POI: {result['poi']}\")\n"
   ]
  },
  {
   "cell_type": "code",
   "execution_count": null,
   "metadata": {},
   "outputs": [],
   "source": []
  }
 ],
 "metadata": {
  "kernelspec": {
   "display_name": "Python 3",
   "language": "python",
   "name": "python3"
  },
  "language_info": {
   "codemirror_mode": {
    "name": "ipython",
    "version": 3
   },
   "file_extension": ".py",
   "mimetype": "text/x-python",
   "name": "python",
   "nbconvert_exporter": "python",
   "pygments_lexer": "ipython3",
   "version": "3.11.9"
  }
 },
 "nbformat": 4,
 "nbformat_minor": 2
}
