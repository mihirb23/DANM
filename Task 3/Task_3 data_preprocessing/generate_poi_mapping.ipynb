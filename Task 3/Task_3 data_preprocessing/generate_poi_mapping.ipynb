{
 "cells": [
  {
   "cell_type": "code",
   "execution_count": 7,
   "metadata": {},
   "outputs": [],
   "source": [
    "import pandas as pd\n",
    "import json"
   ]
  },
  {
   "cell_type": "code",
   "execution_count": 19,
   "metadata": {},
   "outputs": [
    {
     "name": "stdout",
     "output_type": "stream",
     "text": [
      "POI mapping generated and saved successfully!\n"
     ]
    }
   ],
   "source": [
    "## do for city D\n",
    "\n",
    "# Load the POI categories\n",
    "with open('POI_datacategories.csv', 'r') as f:\n",
    "    categories = [line.strip() for line in f.readlines()]\n",
    "\n",
    "# Load the POI data\n",
    "poi_data = pd.read_csv('POIdata_cityD.csv')  # Replace with the appropriate file path\n",
    "\n",
    "# Map category IDs to category names\n",
    "poi_data['category_name'] = poi_data['category'].apply(lambda cid: categories[cid - 1])  # Zero-based indexing\n",
    "\n",
    "# For each grid (x, y), select the category with the highest POI_count\n",
    "poi_mapping_df = poi_data.loc[poi_data.groupby(['x', 'y'])['POI_count'].idxmax()]\n",
    "\n",
    "# Convert to dictionary\n",
    "poi_mapping = {\n",
    "    (row['x'], row['y']): row['category_name']\n",
    "    for _, row in poi_mapping_df.iterrows()\n",
    "}\n",
    "\n",
    "# Save the mapping to a JSON file\n",
    "with open('poi_mapping_city_D.json', 'w') as f:\n",
    "    json.dump({str(key): value for key, value in poi_mapping.items()}, f)\n",
    "\n",
    "print(\"POI mapping generated and saved successfully!\")\n"
   ]
  },
  {
   "cell_type": "code",
   "execution_count": 20,
   "metadata": {},
   "outputs": [
    {
     "name": "stdout",
     "output_type": "stream",
     "text": [
      "POI mapping generated and saved successfully!\n"
     ]
    }
   ],
   "source": [
    "# for city a\n",
    "\n",
    "with open('POI_datacategories.csv', 'r') as f:\n",
    "    categories = [line.strip() for line in f.readlines()]\n",
    "\n",
    "# Load the POI data\n",
    "poi_data = pd.read_csv('POIdata_cityA.csv')  # Replace with the appropriate file path\n",
    "\n",
    "# Map category IDs to category names\n",
    "poi_data['category_name'] = poi_data['category'].apply(lambda cid: categories[cid - 1])  # Zero-based indexing\n",
    "\n",
    "# For each grid (x, y), select the category with the highest POI_count\n",
    "poi_mapping_df = poi_data.loc[poi_data.groupby(['x', 'y'])['POI_count'].idxmax()]\n",
    "\n",
    "# Convert to dictionary\n",
    "poi_mapping = {\n",
    "    (row['x'], row['y']): row['category_name']\n",
    "    for _, row in poi_mapping_df.iterrows()\n",
    "}\n",
    "\n",
    "# Save the mapping to a JSON file\n",
    "with open('poi_mapping_city_A.json', 'w') as f:\n",
    "    json.dump({str(key): value for key, value in poi_mapping.items()}, f)\n",
    "\n",
    "print(\"POI mapping generated and saved successfully!\")"
   ]
  },
  {
   "cell_type": "code",
   "execution_count": 21,
   "metadata": {},
   "outputs": [
    {
     "name": "stdout",
     "output_type": "stream",
     "text": [
      "POI mapping generated and saved successfully!\n"
     ]
    }
   ],
   "source": [
    "# for city B\n",
    "with open('POI_datacategories.csv', 'r') as f:\n",
    "    categories = [line.strip() for line in f.readlines()]\n",
    "\n",
    "# Load the POI data\n",
    "poi_data = pd.read_csv('POIdata_cityB.csv')  \n",
    "\n",
    "# Map category IDs to category names\n",
    "poi_data['category_name'] = poi_data['category'].apply(lambda cid: categories[cid - 1])  \n",
    "\n",
    "# For each grid (x, y), select the category with the highest POI_count\n",
    "poi_mapping_df = poi_data.loc[poi_data.groupby(['x', 'y'])['POI_count'].idxmax()]\n",
    "\n",
    "# Convert to dictionary\n",
    "poi_mapping = {\n",
    "    (row['x'], row['y']): row['category_name']\n",
    "    for _, row in poi_mapping_df.iterrows()\n",
    "}\n",
    "\n",
    "# Save the mapping to a JSON file\n",
    "with open('poi_mapping_city_B.json', 'w') as f:\n",
    "    json.dump({str(key): value for key, value in poi_mapping.items()}, f)\n",
    "\n",
    "print(\"POI mapping generated and saved successfully!\")"
   ]
  },
  {
   "cell_type": "code",
   "execution_count": 22,
   "metadata": {},
   "outputs": [
    {
     "name": "stdout",
     "output_type": "stream",
     "text": [
      "POI mapping generated and saved successfully!\n"
     ]
    }
   ],
   "source": [
    "# for city C\n",
    "with open('POI_datacategories.csv', 'r') as f:\n",
    "    categories = [line.strip() for line in f.readlines()]\n",
    "\n",
    "# Load the POI data\n",
    "poi_data = pd.read_csv('POIdata_cityC.csv')  \n",
    "\n",
    "# Map category IDs to category names\n",
    "poi_data['category_name'] = poi_data['category'].apply(lambda cid: categories[cid - 1])  \n",
    "\n",
    "# For each grid (x, y), select the category with the highest POI_count\n",
    "poi_mapping_df = poi_data.loc[poi_data.groupby(['x', 'y'])['POI_count'].idxmax()]\n",
    "\n",
    "# Convert to dictionary\n",
    "poi_mapping = {\n",
    "    (row['x'], row['y']): row['category_name']\n",
    "    for _, row in poi_mapping_df.iterrows()\n",
    "}\n",
    "\n",
    "# Save the mapping to a JSON file\n",
    "with open('poi_mapping_city_C.json', 'w') as f:\n",
    "    json.dump({str(key): value for key, value in poi_mapping.items()}, f)\n",
    "\n",
    "print(\"POI mapping generated and saved successfully!\")"
   ]
  },
  {
   "cell_type": "code",
   "execution_count": null,
   "metadata": {},
   "outputs": [],
   "source": []
  }
 ],
 "metadata": {
  "kernelspec": {
   "display_name": "Python 3",
   "language": "python",
   "name": "python3"
  },
  "language_info": {
   "codemirror_mode": {
    "name": "ipython",
    "version": 3
   },
   "file_extension": ".py",
   "mimetype": "text/x-python",
   "name": "python",
   "nbconvert_exporter": "python",
   "pygments_lexer": "ipython3",
   "version": "3.11.9"
  }
 },
 "nbformat": 4,
 "nbformat_minor": 2
}
